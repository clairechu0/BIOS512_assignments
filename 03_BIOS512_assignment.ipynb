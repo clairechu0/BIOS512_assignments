{
 "cells": [
  {
   "cell_type": "markdown",
   "id": "e9216b63-c18a-4c9b-beff-4b6b2e1b6964",
   "metadata": {},
   "source": [
    "# BIOS512 Assignment #3"
   ]
  },
  {
   "cell_type": "markdown",
   "id": "4403015e-d27f-473c-8720-088ac6db57c9",
   "metadata": {},
   "source": [
    "Import the 📈Tidyverse into your `R` session"
   ]
  },
  {
   "cell_type": "code",
   "execution_count": 2,
   "id": "2cb997c6-b57c-4198-aa5c-8be897467c7c",
   "metadata": {},
   "outputs": [],
   "source": [
    "library('tidyverse')"
   ]
  },
  {
   "cell_type": "markdown",
   "id": "47ccf7f6-01c6-46b4-94a1-f8dcd8ef8377",
   "metadata": {},
   "source": [
    "In this assignment we'll be using data from the [TidyTuesday Project](https://github.com/rfordatascience/tidytuesday). Specifically, we'll investigate vaccination rates at US schools. A `CSV` file of the data is located at:  \n",
    "\n",
    "[https://github.com/rfordatascience/tidytuesday/blob/master/data/2020/2020-02-25/measles.csv](https://github.com/rfordatascience/tidytuesday/blob/master/data/2020/2020-02-25/measles.csv)\n",
    "\n",
    "Get the \"raw\" data URL and import it into your `R` session using `read_csv`. Remember to capture the data under a variable name of your choosing!"
   ]
  },
  {
   "cell_type": "code",
   "execution_count": 3,
   "id": "8de37571-29da-4393-b1eb-ca13fcd70fed",
   "metadata": {},
   "outputs": [
    {
     "data": {
      "text/html": [
       "<table class=\"dataframe\">\n",
       "<caption>A data.frame: 6 × 16</caption>\n",
       "<thead>\n",
       "\t<tr><th></th><th scope=col>index</th><th scope=col>state</th><th scope=col>year</th><th scope=col>name</th><th scope=col>type</th><th scope=col>city</th><th scope=col>county</th><th scope=col>district</th><th scope=col>enroll</th><th scope=col>mmr</th><th scope=col>overall</th><th scope=col>xrel</th><th scope=col>xmed</th><th scope=col>xper</th><th scope=col>lat</th><th scope=col>lng</th></tr>\n",
       "\t<tr><th></th><th scope=col>&lt;int&gt;</th><th scope=col>&lt;chr&gt;</th><th scope=col>&lt;chr&gt;</th><th scope=col>&lt;chr&gt;</th><th scope=col>&lt;chr&gt;</th><th scope=col>&lt;chr&gt;</th><th scope=col>&lt;chr&gt;</th><th scope=col>&lt;lgl&gt;</th><th scope=col>&lt;int&gt;</th><th scope=col>&lt;dbl&gt;</th><th scope=col>&lt;dbl&gt;</th><th scope=col>&lt;lgl&gt;</th><th scope=col>&lt;dbl&gt;</th><th scope=col>&lt;dbl&gt;</th><th scope=col>&lt;dbl&gt;</th><th scope=col>&lt;dbl&gt;</th></tr>\n",
       "</thead>\n",
       "<tbody>\n",
       "\t<tr><th scope=row>1</th><td>1</td><td>Arizona</td><td>2018-19</td><td>A J Mitchell Elementary                 </td><td>Public </td><td>Nogales</td><td>Santa Cruz</td><td>NA</td><td>51</td><td>100</td><td>-1</td><td>NA</td><td>  NA</td><td>  NA</td><td>31.34782</td><td>-110.9380</td></tr>\n",
       "\t<tr><th scope=row>2</th><td>2</td><td>Arizona</td><td>2018-19</td><td>Academy Del Sol                         </td><td>Charter</td><td>Tucson </td><td>Pima      </td><td>NA</td><td>22</td><td>100</td><td>-1</td><td>NA</td><td>  NA</td><td>  NA</td><td>32.22192</td><td>-110.8961</td></tr>\n",
       "\t<tr><th scope=row>3</th><td>3</td><td>Arizona</td><td>2018-19</td><td>Academy Del Sol - Hope                  </td><td>Charter</td><td>Tucson </td><td>Pima      </td><td>NA</td><td>85</td><td>100</td><td>-1</td><td>NA</td><td>  NA</td><td>  NA</td><td>32.13049</td><td>-111.1170</td></tr>\n",
       "\t<tr><th scope=row>4</th><td>4</td><td>Arizona</td><td>2018-19</td><td>Academy Of Mathematics And Science South</td><td>Charter</td><td>Phoenix</td><td>Maricopa  </td><td>NA</td><td>60</td><td>100</td><td>-1</td><td>NA</td><td>  NA</td><td>  NA</td><td>33.48545</td><td>-112.1306</td></tr>\n",
       "\t<tr><th scope=row>5</th><td>5</td><td>Arizona</td><td>2018-19</td><td>Acclaim Academy                         </td><td>Charter</td><td>Phoenix</td><td>Maricopa  </td><td>NA</td><td>43</td><td>100</td><td>-1</td><td>NA</td><td>2.33</td><td>2.33</td><td>33.49562</td><td>-112.2247</td></tr>\n",
       "\t<tr><th scope=row>6</th><td>6</td><td>Arizona</td><td>2018-19</td><td>Alfred F Garcia                         </td><td>Public </td><td>Phoenix</td><td>Maricopa  </td><td>NA</td><td>36</td><td>100</td><td>-1</td><td>NA</td><td>  NA</td><td>  NA</td><td>33.43532</td><td>-112.1168</td></tr>\n",
       "</tbody>\n",
       "</table>\n"
      ],
      "text/latex": [
       "A data.frame: 6 × 16\n",
       "\\begin{tabular}{r|llllllllllllllll}\n",
       "  & index & state & year & name & type & city & county & district & enroll & mmr & overall & xrel & xmed & xper & lat & lng\\\\\n",
       "  & <int> & <chr> & <chr> & <chr> & <chr> & <chr> & <chr> & <lgl> & <int> & <dbl> & <dbl> & <lgl> & <dbl> & <dbl> & <dbl> & <dbl>\\\\\n",
       "\\hline\n",
       "\t1 & 1 & Arizona & 2018-19 & A J Mitchell Elementary                  & Public  & Nogales & Santa Cruz & NA & 51 & 100 & -1 & NA &   NA &   NA & 31.34782 & -110.9380\\\\\n",
       "\t2 & 2 & Arizona & 2018-19 & Academy Del Sol                          & Charter & Tucson  & Pima       & NA & 22 & 100 & -1 & NA &   NA &   NA & 32.22192 & -110.8961\\\\\n",
       "\t3 & 3 & Arizona & 2018-19 & Academy Del Sol - Hope                   & Charter & Tucson  & Pima       & NA & 85 & 100 & -1 & NA &   NA &   NA & 32.13049 & -111.1170\\\\\n",
       "\t4 & 4 & Arizona & 2018-19 & Academy Of Mathematics And Science South & Charter & Phoenix & Maricopa   & NA & 60 & 100 & -1 & NA &   NA &   NA & 33.48545 & -112.1306\\\\\n",
       "\t5 & 5 & Arizona & 2018-19 & Acclaim Academy                          & Charter & Phoenix & Maricopa   & NA & 43 & 100 & -1 & NA & 2.33 & 2.33 & 33.49562 & -112.2247\\\\\n",
       "\t6 & 6 & Arizona & 2018-19 & Alfred F Garcia                          & Public  & Phoenix & Maricopa   & NA & 36 & 100 & -1 & NA &   NA &   NA & 33.43532 & -112.1168\\\\\n",
       "\\end{tabular}\n"
      ],
      "text/markdown": [
       "\n",
       "A data.frame: 6 × 16\n",
       "\n",
       "| <!--/--> | index &lt;int&gt; | state &lt;chr&gt; | year &lt;chr&gt; | name &lt;chr&gt; | type &lt;chr&gt; | city &lt;chr&gt; | county &lt;chr&gt; | district &lt;lgl&gt; | enroll &lt;int&gt; | mmr &lt;dbl&gt; | overall &lt;dbl&gt; | xrel &lt;lgl&gt; | xmed &lt;dbl&gt; | xper &lt;dbl&gt; | lat &lt;dbl&gt; | lng &lt;dbl&gt; |\n",
       "|---|---|---|---|---|---|---|---|---|---|---|---|---|---|---|---|---|\n",
       "| 1 | 1 | Arizona | 2018-19 | A J Mitchell Elementary                  | Public  | Nogales | Santa Cruz | NA | 51 | 100 | -1 | NA |   NA |   NA | 31.34782 | -110.9380 |\n",
       "| 2 | 2 | Arizona | 2018-19 | Academy Del Sol                          | Charter | Tucson  | Pima       | NA | 22 | 100 | -1 | NA |   NA |   NA | 32.22192 | -110.8961 |\n",
       "| 3 | 3 | Arizona | 2018-19 | Academy Del Sol - Hope                   | Charter | Tucson  | Pima       | NA | 85 | 100 | -1 | NA |   NA |   NA | 32.13049 | -111.1170 |\n",
       "| 4 | 4 | Arizona | 2018-19 | Academy Of Mathematics And Science South | Charter | Phoenix | Maricopa   | NA | 60 | 100 | -1 | NA |   NA |   NA | 33.48545 | -112.1306 |\n",
       "| 5 | 5 | Arizona | 2018-19 | Acclaim Academy                          | Charter | Phoenix | Maricopa   | NA | 43 | 100 | -1 | NA | 2.33 | 2.33 | 33.49562 | -112.2247 |\n",
       "| 6 | 6 | Arizona | 2018-19 | Alfred F Garcia                          | Public  | Phoenix | Maricopa   | NA | 36 | 100 | -1 | NA |   NA |   NA | 33.43532 | -112.1168 |\n",
       "\n"
      ],
      "text/plain": [
       "  index state   year    name                                     type   \n",
       "1 1     Arizona 2018-19 A J Mitchell Elementary                  Public \n",
       "2 2     Arizona 2018-19 Academy Del Sol                          Charter\n",
       "3 3     Arizona 2018-19 Academy Del Sol - Hope                   Charter\n",
       "4 4     Arizona 2018-19 Academy Of Mathematics And Science South Charter\n",
       "5 5     Arizona 2018-19 Acclaim Academy                          Charter\n",
       "6 6     Arizona 2018-19 Alfred F Garcia                          Public \n",
       "  city    county     district enroll mmr overall xrel xmed xper lat     \n",
       "1 Nogales Santa Cruz NA       51     100 -1      NA     NA   NA 31.34782\n",
       "2 Tucson  Pima       NA       22     100 -1      NA     NA   NA 32.22192\n",
       "3 Tucson  Pima       NA       85     100 -1      NA     NA   NA 32.13049\n",
       "4 Phoenix Maricopa   NA       60     100 -1      NA     NA   NA 33.48545\n",
       "5 Phoenix Maricopa   NA       43     100 -1      NA   2.33 2.33 33.49562\n",
       "6 Phoenix Maricopa   NA       36     100 -1      NA     NA   NA 33.43532\n",
       "  lng      \n",
       "1 -110.9380\n",
       "2 -110.8961\n",
       "3 -111.1170\n",
       "4 -112.1306\n",
       "5 -112.2247\n",
       "6 -112.1168"
      ]
     },
     "metadata": {},
     "output_type": "display_data"
    }
   ],
   "source": [
    "vaccine.data = read.csv('https://raw.githubusercontent.com/rfordatascience/tidytuesday/master/data/2020/2020-02-25/measles.csv')\n",
    "\n",
    "vaccine.data |> head()"
   ]
  },
  {
   "cell_type": "markdown",
   "id": "feb89cec-8cda-457d-95cf-89dbfa932ab4",
   "metadata": {},
   "source": [
    "The `mmr` column has holds 🤒 measles, mumps, rubella 🤒 vaccination rates for students in each respective school. **If the `mmr` value is not available for a school the `mmr` value is set to -1 in this data set.** \n",
    "\n",
    "The target `mmr` vaccination rate as [recommended by the CDC](https://www.cdc.gov/mmwr/preview/mmwrhtml/mm5632a3.htm) for schools is 95%. \n",
    "\n",
    "**Calculate the fraction of schools per state that have vaccination rates greater than the CDC 95%. Capture the output as a table called `df_vacc_rates`.**\n",
    "\n",
    "You'll need to do use `filter`, `group_by`, and `summarize`. \n",
    "\n",
    "I.e.\n",
    "1. Filter out schools that don't report `mmr` vaccination rate (keep schools where `mmr >= 0`).\n",
    "1. Group the data by `state`.\n",
    "1. Summarize fraction of vaccination rates above 95%.\n",
    "\n",
    "💡Remember `n()` stands for the number or records in a group. Also, `sum(mmr >= 95, na.rm=TRUE)` will count the number of values above or equal to 95.💡"
   ]
  },
  {
   "cell_type": "code",
   "execution_count": 4,
   "id": "0ba9a861-00fc-4392-a67d-cddbd5a994e0",
   "metadata": {},
   "outputs": [
    {
     "data": {
      "text/html": [
       "<table class=\"dataframe\">\n",
       "<caption>A tibble: 6 × 2</caption>\n",
       "<thead>\n",
       "\t<tr><th scope=col>state</th><th scope=col>percent_vax</th></tr>\n",
       "\t<tr><th scope=col>&lt;chr&gt;</th><th scope=col>&lt;dbl&gt;</th></tr>\n",
       "</thead>\n",
       "<tbody>\n",
       "\t<tr><td>Arizona    </td><td>0.506404782</td></tr>\n",
       "\t<tr><td>Arkansas   </td><td>0.003527337</td></tr>\n",
       "\t<tr><td>California </td><td>0.888506151</td></tr>\n",
       "\t<tr><td>Colorado   </td><td>0.623092236</td></tr>\n",
       "\t<tr><td>Connecticut</td><td>0.811544992</td></tr>\n",
       "\t<tr><td>Illinois   </td><td>0.896825397</td></tr>\n",
       "</tbody>\n",
       "</table>\n"
      ],
      "text/latex": [
       "A tibble: 6 × 2\n",
       "\\begin{tabular}{ll}\n",
       " state & percent\\_vax\\\\\n",
       " <chr> & <dbl>\\\\\n",
       "\\hline\n",
       "\t Arizona     & 0.506404782\\\\\n",
       "\t Arkansas    & 0.003527337\\\\\n",
       "\t California  & 0.888506151\\\\\n",
       "\t Colorado    & 0.623092236\\\\\n",
       "\t Connecticut & 0.811544992\\\\\n",
       "\t Illinois    & 0.896825397\\\\\n",
       "\\end{tabular}\n"
      ],
      "text/markdown": [
       "\n",
       "A tibble: 6 × 2\n",
       "\n",
       "| state &lt;chr&gt; | percent_vax &lt;dbl&gt; |\n",
       "|---|---|\n",
       "| Arizona     | 0.506404782 |\n",
       "| Arkansas    | 0.003527337 |\n",
       "| California  | 0.888506151 |\n",
       "| Colorado    | 0.623092236 |\n",
       "| Connecticut | 0.811544992 |\n",
       "| Illinois    | 0.896825397 |\n",
       "\n"
      ],
      "text/plain": [
       "  state       percent_vax\n",
       "1 Arizona     0.506404782\n",
       "2 Arkansas    0.003527337\n",
       "3 California  0.888506151\n",
       "4 Colorado    0.623092236\n",
       "5 Connecticut 0.811544992\n",
       "6 Illinois    0.896825397"
      ]
     },
     "metadata": {},
     "output_type": "display_data"
    }
   ],
   "source": [
    "# create the df_vacc_rates here\n",
    "\n",
    "df_vacc_rates = vaccine.data |> \n",
    "    filter(mmr >=0) |>\n",
    "    group_by(state) |>\n",
    "    summarize(percent_vax = sum(mmr >= 95, na.rm=TRUE)/n())\n",
    "\n",
    "df_vacc_rates |> head()"
   ]
  },
  {
   "cell_type": "markdown",
   "id": "900ddf7f-d801-4a70-9453-73bdd3277344",
   "metadata": {},
   "source": [
    "Which state (of those that report `mmr`) has the smallest fraction of schools above the CDC target vaccination rate of 95%?  \n",
    "- Arkansas"
   ]
  },
  {
   "cell_type": "code",
   "execution_count": 5,
   "id": "c56ba16b-553a-409f-b345-2ec0a5723f0b",
   "metadata": {
    "tags": []
   },
   "outputs": [
    {
     "data": {
      "text/html": [
       "<table class=\"dataframe\">\n",
       "<caption>A tibble: 6 × 2</caption>\n",
       "<thead>\n",
       "\t<tr><th scope=col>state</th><th scope=col>percent_vax</th></tr>\n",
       "\t<tr><th scope=col>&lt;chr&gt;</th><th scope=col>&lt;dbl&gt;</th></tr>\n",
       "</thead>\n",
       "<tbody>\n",
       "\t<tr><td>Arkansas    </td><td>0.003527337</td></tr>\n",
       "\t<tr><td>Washington  </td><td>0.326592518</td></tr>\n",
       "\t<tr><td>North Dakota</td><td>0.455555556</td></tr>\n",
       "\t<tr><td>Maine       </td><td>0.473389356</td></tr>\n",
       "\t<tr><td>Minnesota   </td><td>0.473948525</td></tr>\n",
       "\t<tr><td>Ohio        </td><td>0.491606715</td></tr>\n",
       "</tbody>\n",
       "</table>\n"
      ],
      "text/latex": [
       "A tibble: 6 × 2\n",
       "\\begin{tabular}{ll}\n",
       " state & percent\\_vax\\\\\n",
       " <chr> & <dbl>\\\\\n",
       "\\hline\n",
       "\t Arkansas     & 0.003527337\\\\\n",
       "\t Washington   & 0.326592518\\\\\n",
       "\t North Dakota & 0.455555556\\\\\n",
       "\t Maine        & 0.473389356\\\\\n",
       "\t Minnesota    & 0.473948525\\\\\n",
       "\t Ohio         & 0.491606715\\\\\n",
       "\\end{tabular}\n"
      ],
      "text/markdown": [
       "\n",
       "A tibble: 6 × 2\n",
       "\n",
       "| state &lt;chr&gt; | percent_vax &lt;dbl&gt; |\n",
       "|---|---|\n",
       "| Arkansas     | 0.003527337 |\n",
       "| Washington   | 0.326592518 |\n",
       "| North Dakota | 0.455555556 |\n",
       "| Maine        | 0.473389356 |\n",
       "| Minnesota    | 0.473948525 |\n",
       "| Ohio         | 0.491606715 |\n",
       "\n"
      ],
      "text/plain": [
       "  state        percent_vax\n",
       "1 Arkansas     0.003527337\n",
       "2 Washington   0.326592518\n",
       "3 North Dakota 0.455555556\n",
       "4 Maine        0.473389356\n",
       "5 Minnesota    0.473948525\n",
       "6 Ohio         0.491606715"
      ]
     },
     "metadata": {},
     "output_type": "display_data"
    }
   ],
   "source": [
    "df_vacc_rates |> \n",
    "    arrange(percent_vax) |>\n",
    "    head()"
   ]
  },
  {
   "cell_type": "markdown",
   "id": "2866ca03-1f87-466e-ab0a-dd69140496e6",
   "metadata": {},
   "source": [
    "**Make a ECDF plot of the school vaccination rates in North Carolina.** Use the `overall` column which reports the \"overall\" vaccination rate at each school.\n",
    "\n",
    "❗️Remember, you can calculate the `y` value for ECDF charts using `row_number`, `mutate`, and `arrange`."
   ]
  },
  {
   "cell_type": "code",
   "execution_count": 6,
   "id": "5d6c9245-4277-4a57-bd2c-09ef333995f0",
   "metadata": {
    "tags": []
   },
   "outputs": [
    {
     "data": {
      "text/html": [
       "<table class=\"dataframe\">\n",
       "<caption>A data.frame: 6 × 19</caption>\n",
       "<thead>\n",
       "\t<tr><th></th><th scope=col>index</th><th scope=col>state</th><th scope=col>year</th><th scope=col>name</th><th scope=col>type</th><th scope=col>city</th><th scope=col>county</th><th scope=col>district</th><th scope=col>enroll</th><th scope=col>mmr</th><th scope=col>overall</th><th scope=col>xrel</th><th scope=col>xmed</th><th scope=col>xper</th><th scope=col>lat</th><th scope=col>lng</th><th scope=col>n</th><th scope=col>fraction_of_schools</th><th scope=col>percentile</th></tr>\n",
       "\t<tr><th></th><th scope=col>&lt;int&gt;</th><th scope=col>&lt;chr&gt;</th><th scope=col>&lt;chr&gt;</th><th scope=col>&lt;chr&gt;</th><th scope=col>&lt;chr&gt;</th><th scope=col>&lt;chr&gt;</th><th scope=col>&lt;chr&gt;</th><th scope=col>&lt;lgl&gt;</th><th scope=col>&lt;int&gt;</th><th scope=col>&lt;dbl&gt;</th><th scope=col>&lt;dbl&gt;</th><th scope=col>&lt;lgl&gt;</th><th scope=col>&lt;dbl&gt;</th><th scope=col>&lt;dbl&gt;</th><th scope=col>&lt;dbl&gt;</th><th scope=col>&lt;dbl&gt;</th><th scope=col>&lt;int&gt;</th><th scope=col>&lt;dbl&gt;</th><th scope=col>&lt;dbl&gt;</th></tr>\n",
       "</thead>\n",
       "<tbody>\n",
       "\t<tr><th scope=row>1</th><td>1766</td><td>North Carolina</td><td>2018-19</td><td>Annunciation Catholic       </td><td>NA</td><td>NA</td><td>Craven     </td><td>NA</td><td> 23</td><td>-1</td><td>21.7</td><td>NA</td><td> NA</td><td>NA</td><td>34.87682</td><td>-76.90448</td><td>1</td><td>0.0004798464</td><td>0.0000000000</td></tr>\n",
       "\t<tr><th scope=row>2</th><td>1765</td><td>North Carolina</td><td>2018-19</td><td>Starmount Acad of Excellence</td><td>NA</td><td>NA</td><td>Mecklenburg</td><td>NA</td><td> 77</td><td>-1</td><td>40.3</td><td>NA</td><td> NA</td><td>NA</td><td>35.13929</td><td>-80.87051</td><td>2</td><td>0.0009596929</td><td>0.0004800768</td></tr>\n",
       "\t<tr><th scope=row>3</th><td>1764</td><td>North Carolina</td><td>2018-19</td><td>Spruce Pine Montessori      </td><td>NA</td><td>NA</td><td>Mitchell   </td><td>NA</td><td>  7</td><td>-1</td><td>42.9</td><td>NA</td><td> NA</td><td>NA</td><td>35.91674</td><td>-82.06719</td><td>3</td><td>0.0014395393</td><td>0.0009601536</td></tr>\n",
       "\t<tr><th scope=row>4</th><td>1763</td><td>North Carolina</td><td>2018-19</td><td>Moyock Elementary           </td><td>NA</td><td>NA</td><td>Currituck  </td><td>NA</td><td> 85</td><td>-1</td><td>43.5</td><td>NA</td><td> NA</td><td>NA</td><td>36.52490</td><td>-76.17366</td><td>4</td><td>0.0019193858</td><td>0.0014402304</td></tr>\n",
       "\t<tr><th scope=row>5</th><td>1762</td><td>North Carolina</td><td>2018-19</td><td>Liberty Christian           </td><td>NA</td><td>NA</td><td>Durham     </td><td>NA</td><td> 20</td><td>-1</td><td>45.0</td><td>NA</td><td>5.0</td><td>NA</td><td>36.06362</td><td>-78.92544</td><td>5</td><td>0.0023992322</td><td>0.0019203072</td></tr>\n",
       "\t<tr><th scope=row>6</th><td>1761</td><td>North Carolina</td><td>2018-19</td><td>Nations Ford Elementary     </td><td>NA</td><td>NA</td><td>Mecklenburg</td><td>NA</td><td>117</td><td>-1</td><td>45.3</td><td>NA</td><td>0.9</td><td>NA</td><td>35.15489</td><td>-80.90022</td><td>6</td><td>0.0028790787</td><td>0.0024003841</td></tr>\n",
       "</tbody>\n",
       "</table>\n"
      ],
      "text/latex": [
       "A data.frame: 6 × 19\n",
       "\\begin{tabular}{r|lllllllllllllllllll}\n",
       "  & index & state & year & name & type & city & county & district & enroll & mmr & overall & xrel & xmed & xper & lat & lng & n & fraction\\_of\\_schools & percentile\\\\\n",
       "  & <int> & <chr> & <chr> & <chr> & <chr> & <chr> & <chr> & <lgl> & <int> & <dbl> & <dbl> & <lgl> & <dbl> & <dbl> & <dbl> & <dbl> & <int> & <dbl> & <dbl>\\\\\n",
       "\\hline\n",
       "\t1 & 1766 & North Carolina & 2018-19 & Annunciation Catholic        & NA & NA & Craven      & NA &  23 & -1 & 21.7 & NA &  NA & NA & 34.87682 & -76.90448 & 1 & 0.0004798464 & 0.0000000000\\\\\n",
       "\t2 & 1765 & North Carolina & 2018-19 & Starmount Acad of Excellence & NA & NA & Mecklenburg & NA &  77 & -1 & 40.3 & NA &  NA & NA & 35.13929 & -80.87051 & 2 & 0.0009596929 & 0.0004800768\\\\\n",
       "\t3 & 1764 & North Carolina & 2018-19 & Spruce Pine Montessori       & NA & NA & Mitchell    & NA &   7 & -1 & 42.9 & NA &  NA & NA & 35.91674 & -82.06719 & 3 & 0.0014395393 & 0.0009601536\\\\\n",
       "\t4 & 1763 & North Carolina & 2018-19 & Moyock Elementary            & NA & NA & Currituck   & NA &  85 & -1 & 43.5 & NA &  NA & NA & 36.52490 & -76.17366 & 4 & 0.0019193858 & 0.0014402304\\\\\n",
       "\t5 & 1762 & North Carolina & 2018-19 & Liberty Christian            & NA & NA & Durham      & NA &  20 & -1 & 45.0 & NA & 5.0 & NA & 36.06362 & -78.92544 & 5 & 0.0023992322 & 0.0019203072\\\\\n",
       "\t6 & 1761 & North Carolina & 2018-19 & Nations Ford Elementary      & NA & NA & Mecklenburg & NA & 117 & -1 & 45.3 & NA & 0.9 & NA & 35.15489 & -80.90022 & 6 & 0.0028790787 & 0.0024003841\\\\\n",
       "\\end{tabular}\n"
      ],
      "text/markdown": [
       "\n",
       "A data.frame: 6 × 19\n",
       "\n",
       "| <!--/--> | index &lt;int&gt; | state &lt;chr&gt; | year &lt;chr&gt; | name &lt;chr&gt; | type &lt;chr&gt; | city &lt;chr&gt; | county &lt;chr&gt; | district &lt;lgl&gt; | enroll &lt;int&gt; | mmr &lt;dbl&gt; | overall &lt;dbl&gt; | xrel &lt;lgl&gt; | xmed &lt;dbl&gt; | xper &lt;dbl&gt; | lat &lt;dbl&gt; | lng &lt;dbl&gt; | n &lt;int&gt; | fraction_of_schools &lt;dbl&gt; | percentile &lt;dbl&gt; |\n",
       "|---|---|---|---|---|---|---|---|---|---|---|---|---|---|---|---|---|---|---|---|\n",
       "| 1 | 1766 | North Carolina | 2018-19 | Annunciation Catholic        | NA | NA | Craven      | NA |  23 | -1 | 21.7 | NA |  NA | NA | 34.87682 | -76.90448 | 1 | 0.0004798464 | 0.0000000000 |\n",
       "| 2 | 1765 | North Carolina | 2018-19 | Starmount Acad of Excellence | NA | NA | Mecklenburg | NA |  77 | -1 | 40.3 | NA |  NA | NA | 35.13929 | -80.87051 | 2 | 0.0009596929 | 0.0004800768 |\n",
       "| 3 | 1764 | North Carolina | 2018-19 | Spruce Pine Montessori       | NA | NA | Mitchell    | NA |   7 | -1 | 42.9 | NA |  NA | NA | 35.91674 | -82.06719 | 3 | 0.0014395393 | 0.0009601536 |\n",
       "| 4 | 1763 | North Carolina | 2018-19 | Moyock Elementary            | NA | NA | Currituck   | NA |  85 | -1 | 43.5 | NA |  NA | NA | 36.52490 | -76.17366 | 4 | 0.0019193858 | 0.0014402304 |\n",
       "| 5 | 1762 | North Carolina | 2018-19 | Liberty Christian            | NA | NA | Durham      | NA |  20 | -1 | 45.0 | NA | 5.0 | NA | 36.06362 | -78.92544 | 5 | 0.0023992322 | 0.0019203072 |\n",
       "| 6 | 1761 | North Carolina | 2018-19 | Nations Ford Elementary      | NA | NA | Mecklenburg | NA | 117 | -1 | 45.3 | NA | 0.9 | NA | 35.15489 | -80.90022 | 6 | 0.0028790787 | 0.0024003841 |\n",
       "\n"
      ],
      "text/plain": [
       "  index state          year    name                         type city\n",
       "1 1766  North Carolina 2018-19 Annunciation Catholic        NA   NA  \n",
       "2 1765  North Carolina 2018-19 Starmount Acad of Excellence NA   NA  \n",
       "3 1764  North Carolina 2018-19 Spruce Pine Montessori       NA   NA  \n",
       "4 1763  North Carolina 2018-19 Moyock Elementary            NA   NA  \n",
       "5 1762  North Carolina 2018-19 Liberty Christian            NA   NA  \n",
       "6 1761  North Carolina 2018-19 Nations Ford Elementary      NA   NA  \n",
       "  county      district enroll mmr overall xrel xmed xper lat      lng       n\n",
       "1 Craven      NA        23    -1  21.7    NA    NA  NA   34.87682 -76.90448 1\n",
       "2 Mecklenburg NA        77    -1  40.3    NA    NA  NA   35.13929 -80.87051 2\n",
       "3 Mitchell    NA         7    -1  42.9    NA    NA  NA   35.91674 -82.06719 3\n",
       "4 Currituck   NA        85    -1  43.5    NA    NA  NA   36.52490 -76.17366 4\n",
       "5 Durham      NA        20    -1  45.0    NA   5.0  NA   36.06362 -78.92544 5\n",
       "6 Mecklenburg NA       117    -1  45.3    NA   0.9  NA   35.15489 -80.90022 6\n",
       "  fraction_of_schools percentile  \n",
       "1 0.0004798464        0.0000000000\n",
       "2 0.0009596929        0.0004800768\n",
       "3 0.0014395393        0.0009601536\n",
       "4 0.0019193858        0.0014402304\n",
       "5 0.0023992322        0.0019203072\n",
       "6 0.0028790787        0.0024003841"
      ]
     },
     "metadata": {},
     "output_type": "display_data"
    }
   ],
   "source": [
    "nc_vacc_rates = vaccine.data |>\n",
    "    filter(state == \"North Carolina\") |>\n",
    "    filter(overall >=0) |>\n",
    "    arrange(overall) |> \n",
    "    mutate(n = row_number(),\n",
    "          fraction_of_schools = n / max(n), \n",
    "          percentile = percent_rank(overall))\n",
    "\n",
    "nc_vacc_rates |> head()"
   ]
  },
  {
   "cell_type": "code",
   "execution_count": 7,
   "id": "d9ce276b-92f5-4652-99e6-8ff151e28a08",
   "metadata": {},
   "outputs": [
    {
     "data": {
      "image/png": "[encoded data removed]",
      "text/plain": [
       "plot without title"
      ]
     },
     "metadata": {
      "image/png": {
       "height": 360,
       "width": 540
      }
     },
     "output_type": "display_data"
    }
   ],
   "source": [
    "options(repr.plot.width = 9, repr.plot.height = 6)\n",
    "\n",
    "p = ggplot(nc_vacc_rates, aes(x = overall, y = fraction_of_schools)) +\n",
    "    geom_point() +\n",
    "    geom_step() + \n",
    "    geom_vline(aes(xintercept = 95), color = 'blue', linetype='dashed') + \n",
    "    labs(x = 'Vaccination rate (%)', y = 'Fraction of schools') + \n",
    "    theme(text = element_text(size = 20)) + \n",
    "    xlim(0,100)\n",
    "\n",
    "p"
   ]
  },
  {
   "cell_type": "markdown",
   "id": "8f5ea83f-c904-46ee-9f52-af1bd1afbc96",
   "metadata": {},
   "source": [
    "(My solution is below if you want to peek 👀. Uncomment the code, change the cell to `markdown`, and exectute it.)"
   ]
  },
  {
   "cell_type": "markdown",
   "id": "28c8ae2d-23a9-4773-9ce3-c0b50ca6ef8d",
   "metadata": {},
   "source": [
    "![](https://github.com/chuckpr/BIOS512/blob/main/assignments/measles-chart.png?raw=true)"
   ]
  },
  {
   "cell_type": "markdown",
   "id": "d2041941-dcee-42e8-957f-a725dc36388f",
   "metadata": {},
   "source": [
    "Is the median vaccination rate for NC schools above the CDC recommended target?"
   ]
  },
  {
   "cell_type": "markdown",
   "id": "29ad5e0b-71c3-488c-8d57-246d203cfb9e",
   "metadata": {},
   "source": [
    "- Yes, based on the ecdf plot, the median vaccination rate (x-value when y = 0.50) is nearly 100%"
   ]
  }
 ],
 "metadata": {
  "kernelspec": {
   "display_name": "bios512:R",
   "language": "R",
   "name": "conda-env-bios512-r"
  },
  "language_info": {
   "codemirror_mode": "r",
   "file_extension": ".r",
   "mimetype": "text/x-r-source",
   "name": "R",
   "pygments_lexer": "r",
   "version": "4.3.1"
  }
 },
 "nbformat": 4,
 "nbformat_minor": 5
}
